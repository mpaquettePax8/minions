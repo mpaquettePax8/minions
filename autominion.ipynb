{
 "cells": [
  {
   "cell_type": "code",
   "execution_count": 1,
   "metadata": {},
   "outputs": [
    {
     "name": "stderr",
     "output_type": "stream",
     "text": [
      "/Users/biderman/miniconda/envs/minions-py311/lib/python3.11/site-packages/tqdm/auto.py:21: TqdmWarning: IProgress not found. Please update jupyter and ipywidgets. See https://ipywidgets.readthedocs.io/en/stable/user_install.html\n",
      "  from .autonotebook import tqdm as notebook_tqdm\n"
     ]
    },
    {
     "name": "stdout",
     "output_type": "stream",
     "text": [
      "Warning: cartesia_mlx is not installed. If you want to use cartesia_mlx, please follow the instructions in the README to install it.\n",
      "Warning: huggingface inference client is not installed. If you want to use huggingface inference client, please install it with `pip install huggingface-hub`\n"
     ]
    }
   ],
   "source": [
    "# Misc imports\n",
    "import os\n",
    "import json\n",
    "import pandas as pd\n",
    "\n",
    "# Import Minions + Minions\n",
    "from minions.minions import Minions\n",
    "from minions.autominion import Minion\n",
    "\n",
    "# Import Minion Clients\n",
    "from minions.clients.ollama import OllamaClient\n",
    "from minions.clients.tokasaurus import TokasaurusClient\n",
    "from minions.clients.openai import OpenAIClient\n",
    "from minions.clients.anthropic import AnthropicClient\n",
    "from minions.clients.together import TogetherClient\n",
    "\n",
    "# Import Pydantic\n",
    "from pydantic import BaseModel"
   ]
  },
  {
   "cell_type": "markdown",
   "metadata": {},
   "source": [
    "### Configure Clients\n"
   ]
  },
  {
   "cell_type": "markdown",
   "metadata": {},
   "source": [
    "1. Specify structured output schema for the OllamaClient. Run this block as is! Do _NOT_ make any modifications\n"
   ]
  },
  {
   "cell_type": "code",
   "execution_count": 2,
   "metadata": {},
   "outputs": [],
   "source": [
    "class StructuredLocalOutput(BaseModel):\n",
    "    explanation: str\n",
    "    citation: str | None\n",
    "    answer: str | None"
   ]
  },
  {
   "cell_type": "markdown",
   "metadata": {},
   "source": [
    "2. Instantiate Clients: Here we instantiate our local client to be ollama and remote client to be OpenAI\n"
   ]
  },
  {
   "cell_type": "code",
   "execution_count": 3,
   "metadata": {},
   "outputs": [],
   "source": [
    "remote_client = OpenAIClient(model_name=\"gpt-4o\", temperature=0.0)\n",
    "\n",
    "# option 2\n",
    "# local_client = TokasaurusClient(\n",
    "#     model_name=\"meta-llama/Llama-3.2-1B-Instruct\",\n",
    "#     temperature=0.0,\n",
    "#     # Structured outputs are not yet supported with tokasaurus\n",
    "#     # structured_output_schema=StructuredLocalOutput\n",
    "# )\n",
    "\n"
   ]
  },
  {
   "cell_type": "markdown",
   "metadata": {},
   "source": [
    "### Set-up Communication Protocol\n"
   ]
  },
  {
   "cell_type": "code",
   "execution_count": 4,
   "metadata": {},
   "outputs": [],
   "source": [
    "# Option 1: Minions\n",
    "# protocol = Minions(local_client=local_client, remote_client=remote_client)\n",
    "\n",
    "# Option 2: Minion\n",
    "protocol = Minion(remote_client=remote_client)\n",
    "    "
   ]
  },
  {
   "cell_type": "markdown",
   "metadata": {},
   "source": [
    "### Configure Minion/Minions Task\n",
    "\n",
    "- context (List[str]): context that the minions need to reason over\n",
    "- doc_metadata (str): every task is parameterized by doc_metadata which describes the \"type\" of information contained in the context\n",
    "- task (str): description of the query to be completed over the context\n"
   ]
  },
  {
   "cell_type": "markdown",
   "metadata": {},
   "source": [
    "##### Specify Input Context\n"
   ]
  },
  {
   "cell_type": "code",
   "execution_count": 5,
   "metadata": {},
   "outputs": [],
   "source": [
    "context = \"\"\"\\\n",
    "Patient Name: John A. Doe\n",
    "Medical Record Number: 001234567\n",
    "DOB: 1967-08-22\n",
    "Gender: Male\n",
    "Admission Date: 2025-01-15\n",
    "Discharge Date: 2025-01-20\n",
    "\n",
    "Chief Complaint:\n",
    "The patient presented with chest discomfort, shortness of breath, and fatigue. Symptoms began gradually 48 hours before admission and intensified over time.\n",
    "\n",
    "History of Present Illness:\n",
    "John A. Doe, a 57-year-old male with a history of type 2 diabetes mellitus and hypertension, was admitted following several episodes of atypical chest pain. He experienced intermittent chest tightness and dyspnea on exertion. The pain did not radiate, and there was no associated nausea.\n",
    "\n",
    "Past Medical History:\n",
    "- Type 2 Diabetes Mellitus (diagnosed 2010) – managed with metformin.\n",
    "- Hypertension (diagnosed 2012) – treated with lisinopril.\n",
    "- Hyperlipidemia – treated with atorvastatin.\n",
    "- Former smoker (quit 2015).\n",
    "- No known drug allergies.\n",
    "\n",
    "Medications on Admission:\n",
    "- Metformin 1000 mg twice daily.\n",
    "- Lisinopril 20 mg daily.\n",
    "- Atorvastatin 40 mg nightly.\n",
    "- Aspirin 81 mg daily.\n",
    "\n",
    "Physical Examination:\n",
    "General: The patient is alert and oriented, in moderate distress.\n",
    "Cardiovascular: Blood pressure 150/95 mmHg; heart rate 88 bpm; regular rhythm.\n",
    "Respiratory: Lungs are clear to auscultation bilaterally; respiratory rate 16 bpm.\n",
    "Neurological: No focal deficits observed.\n",
    "\n",
    "Laboratory and Diagnostic Findings (Admission):\n",
    "- Complete Blood Count: WBC 7.2 x10^9/L, Hemoglobin 13.5 g/dL.\n",
    "- Basic Metabolic Panel: Serum creatinine 1.0 mg/dL; electrolytes normal.\n",
    "- Fasting Blood Glucose: 180 mg/dL.\n",
    "- Hemoglobin A1C: 8.5%.\n",
    "- Lipid Profile: Total Cholesterol 220 mg/dL, LDL 140 mg/dL, HDL 35 mg/dL.\n",
    "- ECG: Non-specific ST-T changes.\n",
    "- Chest X-ray: No acute findings.\n",
    "\n",
    "Progress Notes:\n",
    "Day 2: Initiated subcutaneous insulin to complement oral hypoglycemics. Blood pressure remained elevated at 148/92 mmHg.\n",
    "Day 3: Follow-up labs showed a minor improvement in glycemic levels and stable kidney function.\n",
    "Day 5: Vital signs improved with a blood pressure of 140/85 mmHg and heart rate of 80 bpm. A repeat lab indicated that the fasting blood glucose had decreased significantly compared to admission.\n",
    "Day 6: Endocrinology recommended maintaining current treatment with a possible gradual reduction in insulin if improvements continue.\n",
    "Day 7: Patient stabilized and was discharged with clear instructions for follow-up with both primary care and endocrinology.\n",
    "\n",
    "Discharge Summary:\n",
    "John A. Doe was discharged on Day 7 after noticeable improvements in glycemic control and blood pressure. The patient is to continue current medications with a scheduled outpatient review.\n",
    "Medications at Discharge:\n",
    "- Metformin 1000 mg BID.\n",
    "- Lisinopril 20 mg daily.\n",
    "- Atorvastatin 40 mg nightly.\n",
    "- Adjusted insulin regimen based on recent glycemic trends.\n",
    "\n",
    "Additional Information:\n",
    "- Admission weight: 95 kg (BMI: 31.2).\n",
    "- Dietary consult completed; patient advised on a diabetic diet.\n",
    "- Patient educated on adherence and regular blood glucose monitoring.\n",
    "\n",
    "Summary:\n",
    "This electronic health record details John A. Doe's hospital admission, clinical findings, laboratory values, treatments, and progress over a 7-day period. Key values include a fasting blood glucose of 180 mg/dL on admission and 150 mg/dL on Day 5, indicating a notable improvement in glycemic control.\n",
    "\"\"\""
   ]
  },
  {
   "cell_type": "markdown",
   "metadata": {},
   "source": [
    "##### Specify Metadata and Task Description\n"
   ]
  },
  {
   "cell_type": "code",
   "execution_count": 6,
   "metadata": {},
   "outputs": [],
   "source": [
    "doc_metadata = \"Patient Visit Notes\"\n",
    "\n",
    "# Define the task without explicitly providing the key values.\n",
    "task = (\n",
    "    \"Using the electronic health records provided, calculate the percentage decrease in the patient's fasting \"\n",
    "    \"blood glucose level from admission to Day 5. Extract the necessary values from the record, show your calculations, \"\n",
    "    \"and provide the final percentage decrease.\"\n",
    ")\n",
    "\n",
    "# For testing purposes, we suggest that the correct answer is:\n",
    "suggested_final_answer = (\n",
    "    \"16.67% decrease in fasting blood glucose from admission to Day 5.\"\n",
    ")"
   ]
  },
  {
   "cell_type": "markdown",
   "metadata": {},
   "source": [
    "### Run the protocol\n"
   ]
  },
  {
   "cell_type": "code",
   "execution_count": 9,
   "metadata": {},
   "outputs": [
    {
     "name": "stdout",
     "output_type": "stream",
     "text": [
      "\n",
      "========== MINION TASK STARTED ==========\n",
      "Task: Using the electronic health records provided, calculate the percentage decrease in the patient's fasting blood glucose level from admission to Day 5. Extract the necessary values from the record, show your calculations, and provide the final percentage decrease.\n",
      "Max rounds: 5\n",
      "Privacy enabled: False\n",
      "Images provided: False\n",
      "Context length: 3286 characters\n",
      "Privacy is enabled:  False\n",
      "Selected client: meta-llama/Meta-Llama-3.1-405B-Instruct-Turbo\n",
      "Worker response: ['To calculate the percentage decrease in the patient\\'s fasting blood glucose level from admission to Day 5, we need to extract the necessary values from the electronic health records.\\n\\nAdmission Day Fasting Blood Glucose: 180 mg/dL (from Laboratory and Diagnostic Findings section)\\nDay 5 Fasting Blood Glucose: Although the exact value for Day 5 is not explicitly stated in the initial Laboratory and Diagnostic Findings section, the Progress Notes section mentions that \"A repeat lab indicated that the fasting blood glucose had decreased significantly compared to admission.\" However, a specific value of 150 mg/dL is mentioned in the Summary section for Day 5.\\n\\nNow, let\\'s calculate the percentage decrease:\\n\\n1. Calculate the difference in fasting blood glucose levels:\\n   Decrease = Admission value - Day 5 value\\n   Decrease = 180 mg/dL - 150 mg/dL\\n   Decrease = 30 mg/dL\\n\\n2. Calculate the percentage decrease:\\n   Percentage decrease = (Decrease / Admission value) * 100\\n   Percentage decrease = (30 mg/dL / 180 mg/dL) * 100\\n   Percentage decrease = 0.1667 * 100\\n   Percentage decrease = 16.67%\\n\\nThe fasting blood glucose level decreased by 16.67% from admission to Day 5.']\n",
      "Worker usage: Usage(completion_tokens=274, prompt_tokens=981, cached_prompt_tokens=0, seen_prompt_tokens=0)\n",
      "\n",
      "=== SAVING LOG TO minion_logs/20250331_164926_Using_the_elect.json ===\n",
      "\n",
      "=== MINION TASK COMPLETED ===\n"
     ]
    }
   ],
   "source": [
    "output = protocol(\n",
    "        task=task,\n",
    "        doc_metadata=doc_metadata,\n",
    "        context=[context],\n",
    "        max_rounds=5,  # you can adjust rounds as needed for testing\n",
    "    )"
   ]
  },
  {
   "cell_type": "code",
   "execution_count": 10,
   "metadata": {},
   "outputs": [
    {
     "name": "stdout",
     "output_type": "stream",
     "text": [
      "The percentage decrease in the patient's fasting blood glucose level from admission to Day 5 is 16.67%.\n"
     ]
    }
   ],
   "source": [
    "print(output['final_answer'])"
   ]
  },
  {
   "cell_type": "code",
   "execution_count": null,
   "metadata": {},
   "outputs": [],
   "source": []
  }
 ],
 "metadata": {
  "kernelspec": {
   "display_name": "minions-py311",
   "language": "python",
   "name": "python3"
  },
  "language_info": {
   "codemirror_mode": {
    "name": "ipython",
    "version": 3
   },
   "file_extension": ".py",
   "mimetype": "text/x-python",
   "name": "python",
   "nbconvert_exporter": "python",
   "pygments_lexer": "ipython3",
   "version": "3.11.11"
  }
 },
 "nbformat": 4,
 "nbformat_minor": 2
}
